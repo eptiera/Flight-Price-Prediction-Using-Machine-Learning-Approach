{
  "cells": [
    {
      "cell_type": "code",
      "execution_count": 2,
      "metadata": {
        "id": "jz-CJxQnplAw"
      },
      "outputs": [
        {
          "ename": "ModuleNotFoundError",
          "evalue": "No module named 'kagglehub'",
          "output_type": "error",
          "traceback": [
            "\u001b[1;31m---------------------------------------------------------------------------\u001b[0m",
            "\u001b[1;31mModuleNotFoundError\u001b[0m                       Traceback (most recent call last)",
            "Cell \u001b[1;32mIn[2], line 6\u001b[0m\n\u001b[0;32m      1\u001b[0m \u001b[38;5;66;03m# IMPORTANT: RUN THIS CELL IN ORDER TO IMPORT YOUR KAGGLE DATA SOURCES,\u001b[39;00m\n\u001b[0;32m      2\u001b[0m \u001b[38;5;66;03m# THEN FEEL FREE TO DELETE THIS CELL.\u001b[39;00m\n\u001b[0;32m      3\u001b[0m \u001b[38;5;66;03m# NOTE: THIS NOTEBOOK ENVIRONMENT DIFFERS FROM KAGGLE'S PYTHON\u001b[39;00m\n\u001b[0;32m      4\u001b[0m \u001b[38;5;66;03m# ENVIRONMENT SO THERE MAY BE MISSING LIBRARIES USED BY YOUR\u001b[39;00m\n\u001b[0;32m      5\u001b[0m \u001b[38;5;66;03m# NOTEBOOK.\u001b[39;00m\n\u001b[1;32m----> 6\u001b[0m \u001b[38;5;28;01mimport\u001b[39;00m \u001b[38;5;21;01mkagglehub\u001b[39;00m\n\u001b[0;32m      7\u001b[0m mahatiratusher_flight_price_dataset_of_bangladesh_path \u001b[38;5;241m=\u001b[39m kagglehub\u001b[38;5;241m.\u001b[39mdataset_download(\u001b[38;5;124m'\u001b[39m\u001b[38;5;124mmahatiratusher/flight-price-dataset-of-bangladesh\u001b[39m\u001b[38;5;124m'\u001b[39m)\n\u001b[0;32m      9\u001b[0m \u001b[38;5;28mprint\u001b[39m(\u001b[38;5;124m'\u001b[39m\u001b[38;5;124mData source import complete.\u001b[39m\u001b[38;5;124m'\u001b[39m)\n",
            "\u001b[1;31mModuleNotFoundError\u001b[0m: No module named 'kagglehub'"
          ]
        }
      ],
      "source": [
        "# IMPORTANT: RUN THIS CELL IN ORDER TO IMPORT YOUR KAGGLE DATA SOURCES,\n",
        "# THEN FEEL FREE TO DELETE THIS CELL.\n",
        "# NOTE: THIS NOTEBOOK ENVIRONMENT DIFFERS FROM KAGGLE'S PYTHON\n",
        "# ENVIRONMENT SO THERE MAY BE MISSING LIBRARIES USED BY YOUR\n",
        "# NOTEBOOK.\n",
        "import kagglehub\n",
        "mahatiratusher_flight_price_dataset_of_bangladesh_path = kagglehub.dataset_download('mahatiratusher/flight-price-dataset-of-bangladesh')\n",
        "\n",
        "print('Data source import complete.')\n"
      ]
    },
    {
      "cell_type": "code",
      "execution_count": null,
      "metadata": {
        "_cell_guid": "b1076dfc-b9ad-4769-8c92-a6c4dae69d19",
        "_uuid": "8f2839f25d086af736a60e9eeb907d3b93b6e0e5",
        "execution": {
          "iopub.execute_input": "2025-03-22T13:11:27.66052Z",
          "iopub.status.busy": "2025-03-22T13:11:27.660189Z",
          "iopub.status.idle": "2025-03-22T13:11:29.063886Z",
          "shell.execute_reply": "2025-03-22T13:11:29.062894Z",
          "shell.execute_reply.started": "2025-03-22T13:11:27.660485Z"
        },
        "id": "xCmz1EQjplAz",
        "trusted": true
      },
      "outputs": [],
      "source": [
        "# This Python 3 environment comes with many helpful analytics libraries installed\n",
        "# It is defined by the kaggle/python Docker image: https://github.com/kaggle/docker-python\n",
        "# For example, here's several helpful packages to load\n",
        "\n",
        "import numpy as np # linear algebra\n",
        "import pandas as pd # data processing, CSV file I/O (e.g. pd.read_csv)\n",
        "import seaborn as sns\n",
        "import matplotlib.pyplot as plt\n",
        "import warnings\n",
        "warnings.filterwarnings('ignore')\n",
        "# Input data files are available in the read-only \"../input/\" directory\n",
        "# For example, running this (by clicking run or pressing Shift+Enter) will list all files under the input directory\n",
        "\n",
        "import os\n",
        "for dirname, _, filenames in os.walk('/kaggle/input'):\n",
        "    for filename in filenames:\n",
        "        print(os.path.join(dirname, filename))\n",
        "\n",
        "# You can write up to 20GB to the current directory (/kaggle/working/) that gets preserved as output when you create a version using \"Save & Run All\"\n",
        "# You can also write temporary files to /kaggle/temp/, but they won't be saved outside of the current session"
      ]
    },
    {
      "cell_type": "markdown",
      "metadata": {
        "id": "m7Q4Ir68plAz"
      },
      "source": [
        "## Title: Bangladesh Flight Prices Dataset"
      ]
    },
    {
      "cell_type": "markdown",
      "metadata": {
        "id": "7kjIBIPFplA1"
      },
      "source": [
        "#### Description: This dataset contains flight price information for various domestic and international routes in Bangladesh. It includes details such as airline, departure and arrival times, duration, stops, class, and ticket prices. Useful for price trend analysis and travel cost predictions."
      ]
    },
    {
      "cell_type": "markdown",
      "metadata": {
        "id": "o__DUSeAplA1"
      },
      "source": [
        "## Import dataset"
      ]
    },
    {
      "cell_type": "code",
      "execution_count": null,
      "metadata": {
        "execution": {
          "iopub.execute_input": "2025-03-22T13:11:29.065143Z",
          "iopub.status.busy": "2025-03-22T13:11:29.064628Z",
          "iopub.status.idle": "2025-03-22T13:11:29.486364Z",
          "shell.execute_reply": "2025-03-22T13:11:29.485094Z",
          "shell.execute_reply.started": "2025-03-22T13:11:29.06511Z"
        },
        "id": "9V2dxPZdplA2",
        "trusted": true
      },
      "outputs": [],
      "source": [
        "df = pd.read_csv('/kaggle/input/flight-price-dataset-of-bangladesh/Flight_Price_Dataset_of_Bangladesh.csv')"
      ]
    },
    {
      "cell_type": "code",
      "execution_count": null,
      "metadata": {
        "execution": {
          "iopub.execute_input": "2025-03-22T13:11:29.488327Z",
          "iopub.status.busy": "2025-03-22T13:11:29.487909Z",
          "iopub.status.idle": "2025-03-22T13:11:29.523377Z",
          "shell.execute_reply": "2025-03-22T13:11:29.518281Z",
          "shell.execute_reply.started": "2025-03-22T13:11:29.488291Z"
        },
        "id": "ZyMH1n3XplA2",
        "trusted": true
      },
      "outputs": [],
      "source": [
        "df.head()"
      ]
    },
    {
      "cell_type": "code",
      "execution_count": null,
      "metadata": {
        "execution": {
          "iopub.execute_input": "2025-03-22T13:11:29.524619Z",
          "iopub.status.busy": "2025-03-22T13:11:29.524245Z",
          "iopub.status.idle": "2025-03-22T13:11:29.605262Z",
          "shell.execute_reply": "2025-03-22T13:11:29.604071Z",
          "shell.execute_reply.started": "2025-03-22T13:11:29.52457Z"
        },
        "id": "4zpjzGOlplA2",
        "trusted": true
      },
      "outputs": [],
      "source": [
        "df.tail()"
      ]
    },
    {
      "cell_type": "code",
      "execution_count": null,
      "metadata": {
        "execution": {
          "iopub.execute_input": "2025-03-22T13:11:29.615304Z",
          "iopub.status.busy": "2025-03-22T13:11:29.6147Z",
          "iopub.status.idle": "2025-03-22T13:11:29.724322Z",
          "shell.execute_reply": "2025-03-22T13:11:29.723108Z",
          "shell.execute_reply.started": "2025-03-22T13:11:29.615239Z"
        },
        "id": "cEs7WozEplA3",
        "trusted": true
      },
      "outputs": [],
      "source": [
        "df.info()"
      ]
    },
    {
      "cell_type": "code",
      "execution_count": null,
      "metadata": {
        "execution": {
          "iopub.execute_input": "2025-03-22T13:11:29.728224Z",
          "iopub.status.busy": "2025-03-22T13:11:29.727822Z",
          "iopub.status.idle": "2025-03-22T13:11:29.773126Z",
          "shell.execute_reply": "2025-03-22T13:11:29.772241Z",
          "shell.execute_reply.started": "2025-03-22T13:11:29.728189Z"
        },
        "id": "kwehLaUrplA3",
        "trusted": true
      },
      "outputs": [],
      "source": [
        "df.describe()"
      ]
    },
    {
      "cell_type": "code",
      "execution_count": null,
      "metadata": {
        "execution": {
          "iopub.execute_input": "2025-03-22T13:11:29.774213Z",
          "iopub.status.busy": "2025-03-22T13:11:29.773875Z",
          "iopub.status.idle": "2025-03-22T13:11:29.854117Z",
          "shell.execute_reply": "2025-03-22T13:11:29.852702Z",
          "shell.execute_reply.started": "2025-03-22T13:11:29.774183Z"
        },
        "id": "2Ui58oASplA3",
        "trusted": true
      },
      "outputs": [],
      "source": [
        "df.isnull().sum()"
      ]
    },
    {
      "cell_type": "code",
      "execution_count": null,
      "metadata": {
        "execution": {
          "iopub.execute_input": "2025-03-22T13:11:29.855532Z",
          "iopub.status.busy": "2025-03-22T13:11:29.855186Z",
          "iopub.status.idle": "2025-03-22T13:11:29.970371Z",
          "shell.execute_reply": "2025-03-22T13:11:29.969061Z",
          "shell.execute_reply.started": "2025-03-22T13:11:29.855501Z"
        },
        "id": "ZwzIyXnYplA3",
        "trusted": true
      },
      "outputs": [],
      "source": [
        "df.duplicated().sum()"
      ]
    },
    {
      "cell_type": "code",
      "execution_count": null,
      "metadata": {
        "execution": {
          "iopub.execute_input": "2025-03-22T13:11:29.971763Z",
          "iopub.status.busy": "2025-03-22T13:11:29.971444Z",
          "iopub.status.idle": "2025-03-22T13:11:29.979697Z",
          "shell.execute_reply": "2025-03-22T13:11:29.978355Z",
          "shell.execute_reply.started": "2025-03-22T13:11:29.971738Z"
        },
        "id": "yyrA8MnnplA4",
        "trusted": true
      },
      "outputs": [],
      "source": [
        "df.dtypes"
      ]
    },
    {
      "cell_type": "code",
      "execution_count": null,
      "metadata": {
        "execution": {
          "iopub.execute_input": "2025-03-22T13:11:29.981442Z",
          "iopub.status.busy": "2025-03-22T13:11:29.980982Z",
          "iopub.status.idle": "2025-03-22T13:11:30.008252Z",
          "shell.execute_reply": "2025-03-22T13:11:30.007174Z",
          "shell.execute_reply.started": "2025-03-22T13:11:29.981377Z"
        },
        "id": "A6QHBSH8plA4",
        "trusted": true
      },
      "outputs": [],
      "source": [
        "df.corr"
      ]
    },
    {
      "cell_type": "code",
      "execution_count": null,
      "metadata": {
        "execution": {
          "iopub.execute_input": "2025-03-22T13:11:30.009868Z",
          "iopub.status.busy": "2025-03-22T13:11:30.009499Z",
          "iopub.status.idle": "2025-03-22T13:11:30.023923Z",
          "shell.execute_reply": "2025-03-22T13:11:30.022878Z",
          "shell.execute_reply.started": "2025-03-22T13:11:30.009841Z"
        },
        "id": "8KkGDu8xplA4",
        "trusted": true
      },
      "outputs": [],
      "source": [
        "df.columns"
      ]
    },
    {
      "cell_type": "markdown",
      "metadata": {
        "id": "Xi6bI4HCplA4"
      },
      "source": [
        "## Data visualizations"
      ]
    },
    {
      "cell_type": "code",
      "execution_count": null,
      "metadata": {
        "execution": {
          "iopub.execute_input": "2025-03-22T13:11:30.025533Z",
          "iopub.status.busy": "2025-03-22T13:11:30.025136Z",
          "iopub.status.idle": "2025-03-22T13:11:36.132559Z",
          "shell.execute_reply": "2025-03-22T13:11:36.131608Z",
          "shell.execute_reply.started": "2025-03-22T13:11:30.025496Z"
        },
        "id": "M88jitfSplA4",
        "trusted": true
      },
      "outputs": [],
      "source": [
        "import plotly.express as px\n",
        "# Convert datetime columns\n",
        "df['Departure Date & Time'] = pd.to_datetime(df['Departure Date & Time'])\n",
        "df['Arrival Date & Time'] = pd.to_datetime(df['Arrival Date & Time'])\n",
        "\n",
        "# 1. Histogram of Total Fare (BDT)\n",
        "plt.figure(figsize=(8,5))\n",
        "sns.histplot(df['Total Fare (BDT)'], bins=30, kde=True, color='blue')\n",
        "plt.title('Distribution of Total Fare (BDT)')\n",
        "plt.xlabel('Total Fare (BDT)')\n",
        "plt.ylabel('Frequency')\n",
        "plt.show()\n",
        "\n",
        "# 2. Boxplot of Total Fare by Airline\n",
        "plt.figure(figsize=(12,6))\n",
        "sns.boxplot(x='Airline', y='Total Fare (BDT)', data=df)\n",
        "plt.xticks(rotation=90)\n",
        "plt.title('Flight Prices by Airline')\n",
        "plt.show()\n",
        "\n",
        "# 3. Line Plot - Average Fare vs. Days Before Departure\n",
        "avg_fare_by_days = df.groupby('Days Before Departure')['Total Fare (BDT)'].mean()\n",
        "plt.figure(figsize=(10,5))\n",
        "plt.plot(avg_fare_by_days.index, avg_fare_by_days.values, marker='o', linestyle='-')\n",
        "plt.title('Average Total Fare vs. Days Before Departure')\n",
        "plt.xlabel('Days Before Departure')\n",
        "plt.ylabel('Average Total Fare (BDT)')\n",
        "plt.grid()\n",
        "plt.show()\n",
        "\n",
        "# 4. Scatter Plot - Duration vs. Total Fare\n",
        "plt.figure(figsize=(8,5))\n",
        "sns.scatterplot(x='Duration (hrs)', y='Total Fare (BDT)', hue='Stopovers', data=df)\n",
        "plt.title('Duration vs. Total Fare')\n",
        "plt.show()\n",
        "\n",
        "# 5. Pie Chart - Class Distribution\n",
        "class_counts = df['Class'].value_counts()\n",
        "plt.figure(figsize=(6,6))\n",
        "plt.pie(class_counts, labels=class_counts.index, autopct='%1.1f%%', colors=['blue', 'green', 'red'])\n",
        "plt.title('Class Distribution')\n",
        "plt.show()\n",
        "\n",
        "# 6. Heatmap - Average Fare by Seasonality & Airline\n",
        "pivot_table = df.pivot_table(values='Total Fare (BDT)', index='Seasonality', columns='Airline', aggfunc='mean')\n",
        "plt.figure(figsize=(12,6))\n",
        "sns.heatmap(pivot_table, cmap='coolwarm', annot=True, fmt='.0f')\n",
        "plt.title('Average Fare by Seasonality & Airline')\n",
        "plt.show()\n",
        "\n",
        "# 7. Map of Source-Destination Pairs with Average Fare\n",
        "flight_routes = df.groupby(['Source', 'Destination'])['Total Fare (BDT)'].mean().reset_index()\n",
        "fig = px.scatter_geo(flight_routes, locations='Source', locationmode='country names',\n",
        "                     hover_name='Destination', size='Total Fare (BDT)', title='Flight Prices by Route')\n",
        "fig.show()\n"
      ]
    },
    {
      "cell_type": "markdown",
      "metadata": {
        "id": "uvqCaybrplA5"
      },
      "source": [
        "## Predictive modeling"
      ]
    },
    {
      "cell_type": "code",
      "execution_count": null,
      "metadata": {
        "execution": {
          "iopub.execute_input": "2025-03-22T13:11:36.134077Z",
          "iopub.status.busy": "2025-03-22T13:11:36.133681Z",
          "iopub.status.idle": "2025-03-22T13:11:36.258154Z",
          "shell.execute_reply": "2025-03-22T13:11:36.257294Z",
          "shell.execute_reply.started": "2025-03-22T13:11:36.134015Z"
        },
        "id": "QdkYwCFvplA5",
        "trusted": true
      },
      "outputs": [],
      "source": [
        "from sklearn.model_selection import train_test_split\n",
        "from sklearn.preprocessing import LabelEncoder, StandardScaler\n",
        "from sklearn.ensemble import RandomForestRegressor\n",
        "from sklearn.linear_model import LinearRegression\n",
        "from sklearn.svm import SVR\n",
        "from sklearn.neighbors import KNeighborsRegressor\n",
        "from sklearn.tree import DecisionTreeRegressor\n",
        "from sklearn.metrics import r2_score"
      ]
    },
    {
      "cell_type": "code",
      "execution_count": null,
      "metadata": {
        "execution": {
          "iopub.execute_input": "2025-03-22T13:12:13.232895Z",
          "iopub.status.busy": "2025-03-22T13:12:13.232555Z",
          "iopub.status.idle": "2025-03-22T13:12:13.245972Z",
          "shell.execute_reply": "2025-03-22T13:12:13.244932Z",
          "shell.execute_reply.started": "2025-03-22T13:12:13.232868Z"
        },
        "id": "5ht41ly6plA5",
        "trusted": true
      },
      "outputs": [],
      "source": [
        "# Drop non-numeric columns\n",
        "df = df.drop(columns=['Source Name', 'Destination Name'])"
      ]
    },
    {
      "cell_type": "code",
      "execution_count": null,
      "metadata": {
        "execution": {
          "iopub.execute_input": "2025-03-22T13:12:19.344526Z",
          "iopub.status.busy": "2025-03-22T13:12:19.344193Z",
          "iopub.status.idle": "2025-03-22T13:12:19.374403Z",
          "shell.execute_reply": "2025-03-22T13:12:19.373311Z",
          "shell.execute_reply.started": "2025-03-22T13:12:19.344501Z"
        },
        "id": "xHhvZeSUplA5",
        "trusted": true
      },
      "outputs": [],
      "source": [
        "# Label Encode categorical variables\n",
        "label_encoders = {}\n",
        "categorical_cols = ['Airline', 'Source', 'Destination', 'Aircraft Type', 'Class', 'Booking Source', 'Seasonality', 'Stopovers']\n",
        "for col in categorical_cols:\n",
        "    le = LabelEncoder()\n",
        "    df[col] = le.fit_transform(df[col])\n",
        "    label_encoders[col] = le"
      ]
    },
    {
      "cell_type": "code",
      "execution_count": null,
      "metadata": {
        "execution": {
          "iopub.execute_input": "2025-03-22T13:12:26.398808Z",
          "iopub.status.busy": "2025-03-22T13:12:26.39848Z",
          "iopub.status.idle": "2025-03-22T13:12:26.426146Z",
          "shell.execute_reply": "2025-03-22T13:12:26.425153Z",
          "shell.execute_reply.started": "2025-03-22T13:12:26.398783Z"
        },
        "id": "DklwYdzSplA5",
        "trusted": true
      },
      "outputs": [],
      "source": [
        "# Train-test split\n",
        "X = df.drop(columns=['Total Fare (BDT)'])\n",
        "y = df['Total Fare (BDT)']\n",
        "X_train, X_test, y_train, y_test = train_test_split(X, y, test_size=0.2, random_state=42)"
      ]
    },
    {
      "cell_type": "code",
      "execution_count": null,
      "metadata": {
        "execution": {
          "iopub.execute_input": "2025-03-22T13:13:14.861101Z",
          "iopub.status.busy": "2025-03-22T13:13:14.860701Z",
          "iopub.status.idle": "2025-03-22T13:13:14.873603Z",
          "shell.execute_reply": "2025-03-22T13:13:14.87244Z",
          "shell.execute_reply.started": "2025-03-22T13:13:14.861071Z"
        },
        "id": "ZI8FmukjplA5",
        "trusted": true
      },
      "outputs": [],
      "source": [
        "# Check for datetime columns\n",
        "datetime_cols = X_train.select_dtypes(include=['datetime64']).columns\n",
        "\n",
        "# Drop datetime columns\n",
        "X_train = X_train.drop(columns=datetime_cols)\n",
        "X_test = X_test.drop(columns=datetime_cols)"
      ]
    },
    {
      "cell_type": "code",
      "execution_count": null,
      "metadata": {
        "execution": {
          "iopub.execute_input": "2025-03-22T13:13:16.25155Z",
          "iopub.status.busy": "2025-03-22T13:13:16.251172Z",
          "iopub.status.idle": "2025-03-22T13:13:16.287158Z",
          "shell.execute_reply": "2025-03-22T13:13:16.286204Z",
          "shell.execute_reply.started": "2025-03-22T13:13:16.25152Z"
        },
        "id": "upDiSZo2plA5",
        "trusted": true
      },
      "outputs": [],
      "source": [
        "# Standardize numerical features\n",
        "scaler = StandardScaler()\n",
        "X_train = scaler.fit_transform(X_train)\n",
        "X_test = scaler.transform(X_test)"
      ]
    },
    {
      "cell_type": "code",
      "execution_count": null,
      "metadata": {
        "execution": {
          "iopub.execute_input": "2025-03-22T13:13:17.598163Z",
          "iopub.status.busy": "2025-03-22T13:13:17.59773Z",
          "iopub.status.idle": "2025-03-22T13:13:17.603135Z",
          "shell.execute_reply": "2025-03-22T13:13:17.601916Z",
          "shell.execute_reply.started": "2025-03-22T13:13:17.598128Z"
        },
        "id": "i4ugGq2CplA5",
        "trusted": true
      },
      "outputs": [],
      "source": [
        "# Initialize models\n",
        "models = {\n",
        "    'Linear Regression': LinearRegression(),\n",
        "    'Random Forest': RandomForestRegressor(n_estimators=100, random_state=42),\n",
        "    'Support Vector Regressor': SVR(),\n",
        "    'K-Nearest Neighbors': KNeighborsRegressor(n_neighbors=5),\n",
        "    'Decision Tree': DecisionTreeRegressor(random_state=42)\n",
        "}"
      ]
    },
    {
      "cell_type": "code",
      "execution_count": null,
      "metadata": {
        "execution": {
          "iopub.execute_input": "2025-03-22T13:13:18.697337Z",
          "iopub.status.busy": "2025-03-22T13:13:18.696938Z"
        },
        "id": "kxARE3dVplA5",
        "trusted": true
      },
      "outputs": [],
      "source": [
        "# Train and evaluate models\n",
        "accuracy_results = {}\n",
        "for name, model in models.items():\n",
        "    model.fit(X_train, y_train)\n",
        "    y_pred = model.predict(X_test)\n",
        "    accuracy = r2_score(y_test, y_pred) * 100\n",
        "    accuracy_results[name] = accuracy\n",
        "    print(f'{name} Accuracy: {accuracy:.2f}%')"
      ]
    },
    {
      "cell_type": "code",
      "execution_count": null,
      "metadata": {
        "id": "2L2GWnmVplA5",
        "trusted": true
      },
      "outputs": [],
      "source": [
        "# Display results\n",
        "plt.figure(figsize=(8, 5))\n",
        "sns.barplot(x=list(accuracy_results.keys()), y=list(accuracy_results.values()), palette='coolwarm')\n",
        "plt.xticks(rotation=45)\n",
        "plt.ylabel('R2 Score (%)')\n",
        "plt.title('Model Performance on Flight Price Prediction')\n",
        "plt.show()"
      ]
    },
    {
      "cell_type": "markdown",
      "metadata": {
        "id": "nlEGIbPzplA6"
      },
      "source": [
        "## Thank you!!!!....pls upvote!!!!"
      ]
    }
  ],
  "metadata": {
    "colab": {
      "name": "Bangladesh Flight Prices|ML|99.99% ",
      "provenance": []
    },
    "kaggle": {
      "accelerator": "none",
      "dataSources": [
        {
          "datasetId": 6784331,
          "sourceId": 10913740,
          "sourceType": "datasetVersion"
        }
      ],
      "dockerImageVersionId": 30918,
      "isGpuEnabled": false,
      "isInternetEnabled": true,
      "language": "python",
      "sourceType": "notebook"
    },
    "kernelspec": {
      "display_name": "Python 3",
      "language": "python",
      "name": "python3"
    },
    "language_info": {
      "codemirror_mode": {
        "name": "ipython",
        "version": 3
      },
      "file_extension": ".py",
      "mimetype": "text/x-python",
      "name": "python",
      "nbconvert_exporter": "python",
      "pygments_lexer": "ipython3",
      "version": "3.13.3"
    }
  },
  "nbformat": 4,
  "nbformat_minor": 0
}
