{
  "metadata": {
    "kernelspec": {
      "language": "python",
      "display_name": "Python 3",
      "name": "python3"
    },
    "language_info": {
      "name": "python",
      "version": "3.10.12",
      "mimetype": "text/x-python",
      "codemirror_mode": {
        "name": "ipython",
        "version": 3
      },
      "pygments_lexer": "ipython3",
      "nbconvert_exporter": "python",
      "file_extension": ".py"
    },
    "kaggle": {
      "accelerator": "none",
      "dataSources": [
        {
          "sourceId": 10913740,
          "sourceType": "datasetVersion",
          "datasetId": 6784331
        }
      ],
      "dockerImageVersionId": 30918,
      "isInternetEnabled": true,
      "language": "python",
      "sourceType": "notebook",
      "isGpuEnabled": false
    },
    "colab": {
      "name": "Bangladesh Flight Prices|ML|99.99% ",
      "provenance": []
    }
  },
  "nbformat_minor": 0,
  "nbformat": 4,
  "cells": [
    {
      "source": [
        "# IMPORTANT: RUN THIS CELL IN ORDER TO IMPORT YOUR KAGGLE DATA SOURCES,\n",
        "# THEN FEEL FREE TO DELETE THIS CELL.\n",
        "# NOTE: THIS NOTEBOOK ENVIRONMENT DIFFERS FROM KAGGLE'S PYTHON\n",
        "# ENVIRONMENT SO THERE MAY BE MISSING LIBRARIES USED BY YOUR\n",
        "# NOTEBOOK.\n",
        "import kagglehub\n",
        "mahatiratusher_flight_price_dataset_of_bangladesh_path = kagglehub.dataset_download('mahatiratusher/flight-price-dataset-of-bangladesh')\n",
        "\n",
        "print('Data source import complete.')\n"
      ],
      "metadata": {
        "id": "jz-CJxQnplAw"
      },
      "cell_type": "code",
      "outputs": [],
      "execution_count": null
    },
    {
      "cell_type": "code",
      "source": [
        "# This Python 3 environment comes with many helpful analytics libraries installed\n",
        "# It is defined by the kaggle/python Docker image: https://github.com/kaggle/docker-python\n",
        "# For example, here's several helpful packages to load\n",
        "\n",
        "import numpy as np # linear algebra\n",
        "import pandas as pd # data processing, CSV file I/O (e.g. pd.read_csv)\n",
        "import seaborn as sns\n",
        "import matplotlib.pyplot as plt\n",
        "import warnings\n",
        "warnings.filterwarnings('ignore')\n",
        "# Input data files are available in the read-only \"../input/\" directory\n",
        "# For example, running this (by clicking run or pressing Shift+Enter) will list all files under the input directory\n",
        "\n",
        "import os\n",
        "for dirname, _, filenames in os.walk('/kaggle/input'):\n",
        "    for filename in filenames:\n",
        "        print(os.path.join(dirname, filename))\n",
        "\n",
        "# You can write up to 20GB to the current directory (/kaggle/working/) that gets preserved as output when you create a version using \"Save & Run All\"\n",
        "# You can also write temporary files to /kaggle/temp/, but they won't be saved outside of the current session"
      ],
      "metadata": {
        "_uuid": "8f2839f25d086af736a60e9eeb907d3b93b6e0e5",
        "_cell_guid": "b1076dfc-b9ad-4769-8c92-a6c4dae69d19",
        "trusted": true,
        "execution": {
          "iopub.status.busy": "2025-03-22T13:11:27.660189Z",
          "iopub.execute_input": "2025-03-22T13:11:27.66052Z",
          "iopub.status.idle": "2025-03-22T13:11:29.063886Z",
          "shell.execute_reply.started": "2025-03-22T13:11:27.660485Z",
          "shell.execute_reply": "2025-03-22T13:11:29.062894Z"
        },
        "id": "xCmz1EQjplAz"
      },
      "outputs": [],
      "execution_count": null
    },
    {
      "cell_type": "markdown",
      "source": [
        "## Title: Bangladesh Flight Prices Dataset"
      ],
      "metadata": {
        "id": "m7Q4Ir68plAz"
      }
    },
    {
      "cell_type": "markdown",
      "source": [
        "#### Description: This dataset contains flight price information for various domestic and international routes in Bangladesh. It includes details such as airline, departure and arrival times, duration, stops, class, and ticket prices. Useful for price trend analysis and travel cost predictions."
      ],
      "metadata": {
        "id": "7kjIBIPFplA1"
      }
    },
    {
      "cell_type": "markdown",
      "source": [
        "## Import dataset"
      ],
      "metadata": {
        "id": "o__DUSeAplA1"
      }
    },
    {
      "cell_type": "code",
      "source": [
        "df = pd.read_csv('/kaggle/input/flight-price-dataset-of-bangladesh/Flight_Price_Dataset_of_Bangladesh.csv')"
      ],
      "metadata": {
        "trusted": true,
        "execution": {
          "iopub.status.busy": "2025-03-22T13:11:29.064628Z",
          "iopub.execute_input": "2025-03-22T13:11:29.065143Z",
          "iopub.status.idle": "2025-03-22T13:11:29.486364Z",
          "shell.execute_reply.started": "2025-03-22T13:11:29.06511Z",
          "shell.execute_reply": "2025-03-22T13:11:29.485094Z"
        },
        "id": "9V2dxPZdplA2"
      },
      "outputs": [],
      "execution_count": null
    },
    {
      "cell_type": "code",
      "source": [
        "df.head()"
      ],
      "metadata": {
        "trusted": true,
        "execution": {
          "iopub.status.busy": "2025-03-22T13:11:29.487909Z",
          "iopub.execute_input": "2025-03-22T13:11:29.488327Z",
          "iopub.status.idle": "2025-03-22T13:11:29.523377Z",
          "shell.execute_reply.started": "2025-03-22T13:11:29.488291Z",
          "shell.execute_reply": "2025-03-22T13:11:29.518281Z"
        },
        "id": "ZyMH1n3XplA2"
      },
      "outputs": [],
      "execution_count": null
    },
    {
      "cell_type": "code",
      "source": [
        "df.tail()"
      ],
      "metadata": {
        "trusted": true,
        "execution": {
          "iopub.status.busy": "2025-03-22T13:11:29.524245Z",
          "iopub.execute_input": "2025-03-22T13:11:29.524619Z",
          "iopub.status.idle": "2025-03-22T13:11:29.605262Z",
          "shell.execute_reply.started": "2025-03-22T13:11:29.52457Z",
          "shell.execute_reply": "2025-03-22T13:11:29.604071Z"
        },
        "id": "4zpjzGOlplA2"
      },
      "outputs": [],
      "execution_count": null
    },
    {
      "cell_type": "code",
      "source": [
        "df.info()"
      ],
      "metadata": {
        "trusted": true,
        "execution": {
          "iopub.status.busy": "2025-03-22T13:11:29.6147Z",
          "iopub.execute_input": "2025-03-22T13:11:29.615304Z",
          "iopub.status.idle": "2025-03-22T13:11:29.724322Z",
          "shell.execute_reply.started": "2025-03-22T13:11:29.615239Z",
          "shell.execute_reply": "2025-03-22T13:11:29.723108Z"
        },
        "id": "cEs7WozEplA3"
      },
      "outputs": [],
      "execution_count": null
    },
    {
      "cell_type": "code",
      "source": [
        "df.describe()"
      ],
      "metadata": {
        "trusted": true,
        "execution": {
          "iopub.status.busy": "2025-03-22T13:11:29.727822Z",
          "iopub.execute_input": "2025-03-22T13:11:29.728224Z",
          "iopub.status.idle": "2025-03-22T13:11:29.773126Z",
          "shell.execute_reply.started": "2025-03-22T13:11:29.728189Z",
          "shell.execute_reply": "2025-03-22T13:11:29.772241Z"
        },
        "id": "kwehLaUrplA3"
      },
      "outputs": [],
      "execution_count": null
    },
    {
      "cell_type": "code",
      "source": [
        "df.isnull().sum()"
      ],
      "metadata": {
        "trusted": true,
        "execution": {
          "iopub.status.busy": "2025-03-22T13:11:29.773875Z",
          "iopub.execute_input": "2025-03-22T13:11:29.774213Z",
          "iopub.status.idle": "2025-03-22T13:11:29.854117Z",
          "shell.execute_reply.started": "2025-03-22T13:11:29.774183Z",
          "shell.execute_reply": "2025-03-22T13:11:29.852702Z"
        },
        "id": "2Ui58oASplA3"
      },
      "outputs": [],
      "execution_count": null
    },
    {
      "cell_type": "code",
      "source": [
        "df.duplicated().sum()"
      ],
      "metadata": {
        "trusted": true,
        "execution": {
          "iopub.status.busy": "2025-03-22T13:11:29.855186Z",
          "iopub.execute_input": "2025-03-22T13:11:29.855532Z",
          "iopub.status.idle": "2025-03-22T13:11:29.970371Z",
          "shell.execute_reply.started": "2025-03-22T13:11:29.855501Z",
          "shell.execute_reply": "2025-03-22T13:11:29.969061Z"
        },
        "id": "ZwzIyXnYplA3"
      },
      "outputs": [],
      "execution_count": null
    },
    {
      "cell_type": "code",
      "source": [
        "df.dtypes"
      ],
      "metadata": {
        "trusted": true,
        "execution": {
          "iopub.status.busy": "2025-03-22T13:11:29.971444Z",
          "iopub.execute_input": "2025-03-22T13:11:29.971763Z",
          "iopub.status.idle": "2025-03-22T13:11:29.979697Z",
          "shell.execute_reply.started": "2025-03-22T13:11:29.971738Z",
          "shell.execute_reply": "2025-03-22T13:11:29.978355Z"
        },
        "id": "yyrA8MnnplA4"
      },
      "outputs": [],
      "execution_count": null
    },
    {
      "cell_type": "code",
      "source": [
        "df.corr"
      ],
      "metadata": {
        "trusted": true,
        "execution": {
          "iopub.status.busy": "2025-03-22T13:11:29.980982Z",
          "iopub.execute_input": "2025-03-22T13:11:29.981442Z",
          "iopub.status.idle": "2025-03-22T13:11:30.008252Z",
          "shell.execute_reply.started": "2025-03-22T13:11:29.981377Z",
          "shell.execute_reply": "2025-03-22T13:11:30.007174Z"
        },
        "id": "A6QHBSH8plA4"
      },
      "outputs": [],
      "execution_count": null
    },
    {
      "cell_type": "code",
      "source": [
        "df.columns"
      ],
      "metadata": {
        "trusted": true,
        "execution": {
          "iopub.status.busy": "2025-03-22T13:11:30.009499Z",
          "iopub.execute_input": "2025-03-22T13:11:30.009868Z",
          "iopub.status.idle": "2025-03-22T13:11:30.023923Z",
          "shell.execute_reply.started": "2025-03-22T13:11:30.009841Z",
          "shell.execute_reply": "2025-03-22T13:11:30.022878Z"
        },
        "id": "8KkGDu8xplA4"
      },
      "outputs": [],
      "execution_count": null
    },
    {
      "cell_type": "markdown",
      "source": [
        "## Data visualizations"
      ],
      "metadata": {
        "id": "Xi6bI4HCplA4"
      }
    },
    {
      "cell_type": "code",
      "source": [
        "import plotly.express as px\n",
        "# Convert datetime columns\n",
        "df['Departure Date & Time'] = pd.to_datetime(df['Departure Date & Time'])\n",
        "df['Arrival Date & Time'] = pd.to_datetime(df['Arrival Date & Time'])\n",
        "\n",
        "# 1. Histogram of Total Fare (BDT)\n",
        "plt.figure(figsize=(8,5))\n",
        "sns.histplot(df['Total Fare (BDT)'], bins=30, kde=True, color='blue')\n",
        "plt.title('Distribution of Total Fare (BDT)')\n",
        "plt.xlabel('Total Fare (BDT)')\n",
        "plt.ylabel('Frequency')\n",
        "plt.show()\n",
        "\n",
        "# 2. Boxplot of Total Fare by Airline\n",
        "plt.figure(figsize=(12,6))\n",
        "sns.boxplot(x='Airline', y='Total Fare (BDT)', data=df)\n",
        "plt.xticks(rotation=90)\n",
        "plt.title('Flight Prices by Airline')\n",
        "plt.show()\n",
        "\n",
        "# 3. Line Plot - Average Fare vs. Days Before Departure\n",
        "avg_fare_by_days = df.groupby('Days Before Departure')['Total Fare (BDT)'].mean()\n",
        "plt.figure(figsize=(10,5))\n",
        "plt.plot(avg_fare_by_days.index, avg_fare_by_days.values, marker='o', linestyle='-')\n",
        "plt.title('Average Total Fare vs. Days Before Departure')\n",
        "plt.xlabel('Days Before Departure')\n",
        "plt.ylabel('Average Total Fare (BDT)')\n",
        "plt.grid()\n",
        "plt.show()\n",
        "\n",
        "# 4. Scatter Plot - Duration vs. Total Fare\n",
        "plt.figure(figsize=(8,5))\n",
        "sns.scatterplot(x='Duration (hrs)', y='Total Fare (BDT)', hue='Stopovers', data=df)\n",
        "plt.title('Duration vs. Total Fare')\n",
        "plt.show()\n",
        "\n",
        "# 5. Pie Chart - Class Distribution\n",
        "class_counts = df['Class'].value_counts()\n",
        "plt.figure(figsize=(6,6))\n",
        "plt.pie(class_counts, labels=class_counts.index, autopct='%1.1f%%', colors=['blue', 'green', 'red'])\n",
        "plt.title('Class Distribution')\n",
        "plt.show()\n",
        "\n",
        "# 6. Heatmap - Average Fare by Seasonality & Airline\n",
        "pivot_table = df.pivot_table(values='Total Fare (BDT)', index='Seasonality', columns='Airline', aggfunc='mean')\n",
        "plt.figure(figsize=(12,6))\n",
        "sns.heatmap(pivot_table, cmap='coolwarm', annot=True, fmt='.0f')\n",
        "plt.title('Average Fare by Seasonality & Airline')\n",
        "plt.show()\n",
        "\n",
        "# 7. Map of Source-Destination Pairs with Average Fare\n",
        "flight_routes = df.groupby(['Source', 'Destination'])['Total Fare (BDT)'].mean().reset_index()\n",
        "fig = px.scatter_geo(flight_routes, locations='Source', locationmode='country names',\n",
        "                     hover_name='Destination', size='Total Fare (BDT)', title='Flight Prices by Route')\n",
        "fig.show()\n"
      ],
      "metadata": {
        "trusted": true,
        "execution": {
          "iopub.status.busy": "2025-03-22T13:11:30.025136Z",
          "iopub.execute_input": "2025-03-22T13:11:30.025533Z",
          "iopub.status.idle": "2025-03-22T13:11:36.132559Z",
          "shell.execute_reply.started": "2025-03-22T13:11:30.025496Z",
          "shell.execute_reply": "2025-03-22T13:11:36.131608Z"
        },
        "id": "M88jitfSplA4"
      },
      "outputs": [],
      "execution_count": null
    },
    {
      "cell_type": "markdown",
      "source": [
        "## Predictive modeling"
      ],
      "metadata": {
        "id": "uvqCaybrplA5"
      }
    },
    {
      "cell_type": "code",
      "source": [
        "from sklearn.model_selection import train_test_split\n",
        "from sklearn.preprocessing import LabelEncoder, StandardScaler\n",
        "from sklearn.ensemble import RandomForestRegressor\n",
        "from sklearn.linear_model import LinearRegression\n",
        "from sklearn.svm import SVR\n",
        "from sklearn.neighbors import KNeighborsRegressor\n",
        "from sklearn.tree import DecisionTreeRegressor\n",
        "from sklearn.metrics import r2_score"
      ],
      "metadata": {
        "trusted": true,
        "execution": {
          "iopub.status.busy": "2025-03-22T13:11:36.133681Z",
          "iopub.execute_input": "2025-03-22T13:11:36.134077Z",
          "iopub.status.idle": "2025-03-22T13:11:36.258154Z",
          "shell.execute_reply.started": "2025-03-22T13:11:36.134015Z",
          "shell.execute_reply": "2025-03-22T13:11:36.257294Z"
        },
        "id": "QdkYwCFvplA5"
      },
      "outputs": [],
      "execution_count": null
    },
    {
      "cell_type": "code",
      "source": [
        "# Drop non-numeric columns\n",
        "df = df.drop(columns=['Source Name', 'Destination Name'])"
      ],
      "metadata": {
        "trusted": true,
        "execution": {
          "iopub.status.busy": "2025-03-22T13:12:13.232555Z",
          "iopub.execute_input": "2025-03-22T13:12:13.232895Z",
          "iopub.status.idle": "2025-03-22T13:12:13.245972Z",
          "shell.execute_reply.started": "2025-03-22T13:12:13.232868Z",
          "shell.execute_reply": "2025-03-22T13:12:13.244932Z"
        },
        "id": "5ht41ly6plA5"
      },
      "outputs": [],
      "execution_count": null
    },
    {
      "cell_type": "code",
      "source": [
        "# Label Encode categorical variables\n",
        "label_encoders = {}\n",
        "categorical_cols = ['Airline', 'Source', 'Destination', 'Aircraft Type', 'Class', 'Booking Source', 'Seasonality', 'Stopovers']\n",
        "for col in categorical_cols:\n",
        "    le = LabelEncoder()\n",
        "    df[col] = le.fit_transform(df[col])\n",
        "    label_encoders[col] = le"
      ],
      "metadata": {
        "trusted": true,
        "execution": {
          "iopub.status.busy": "2025-03-22T13:12:19.344193Z",
          "iopub.execute_input": "2025-03-22T13:12:19.344526Z",
          "iopub.status.idle": "2025-03-22T13:12:19.374403Z",
          "shell.execute_reply.started": "2025-03-22T13:12:19.344501Z",
          "shell.execute_reply": "2025-03-22T13:12:19.373311Z"
        },
        "id": "xHhvZeSUplA5"
      },
      "outputs": [],
      "execution_count": null
    },
    {
      "cell_type": "code",
      "source": [
        "# Train-test split\n",
        "X = df.drop(columns=['Total Fare (BDT)'])\n",
        "y = df['Total Fare (BDT)']\n",
        "X_train, X_test, y_train, y_test = train_test_split(X, y, test_size=0.2, random_state=42)"
      ],
      "metadata": {
        "trusted": true,
        "execution": {
          "iopub.status.busy": "2025-03-22T13:12:26.39848Z",
          "iopub.execute_input": "2025-03-22T13:12:26.398808Z",
          "iopub.status.idle": "2025-03-22T13:12:26.426146Z",
          "shell.execute_reply.started": "2025-03-22T13:12:26.398783Z",
          "shell.execute_reply": "2025-03-22T13:12:26.425153Z"
        },
        "id": "DklwYdzSplA5"
      },
      "outputs": [],
      "execution_count": null
    },
    {
      "cell_type": "code",
      "source": [
        "# Check for datetime columns\n",
        "datetime_cols = X_train.select_dtypes(include=['datetime64']).columns\n",
        "\n",
        "# Drop datetime columns\n",
        "X_train = X_train.drop(columns=datetime_cols)\n",
        "X_test = X_test.drop(columns=datetime_cols)"
      ],
      "metadata": {
        "trusted": true,
        "execution": {
          "iopub.status.busy": "2025-03-22T13:13:14.860701Z",
          "iopub.execute_input": "2025-03-22T13:13:14.861101Z",
          "iopub.status.idle": "2025-03-22T13:13:14.873603Z",
          "shell.execute_reply.started": "2025-03-22T13:13:14.861071Z",
          "shell.execute_reply": "2025-03-22T13:13:14.87244Z"
        },
        "id": "ZI8FmukjplA5"
      },
      "outputs": [],
      "execution_count": null
    },
    {
      "cell_type": "code",
      "source": [
        "# Standardize numerical features\n",
        "scaler = StandardScaler()\n",
        "X_train = scaler.fit_transform(X_train)\n",
        "X_test = scaler.transform(X_test)"
      ],
      "metadata": {
        "trusted": true,
        "execution": {
          "iopub.status.busy": "2025-03-22T13:13:16.251172Z",
          "iopub.execute_input": "2025-03-22T13:13:16.25155Z",
          "iopub.status.idle": "2025-03-22T13:13:16.287158Z",
          "shell.execute_reply.started": "2025-03-22T13:13:16.25152Z",
          "shell.execute_reply": "2025-03-22T13:13:16.286204Z"
        },
        "id": "upDiSZo2plA5"
      },
      "outputs": [],
      "execution_count": null
    },
    {
      "cell_type": "code",
      "source": [
        "# Initialize models\n",
        "models = {\n",
        "    'Linear Regression': LinearRegression(),\n",
        "    'Random Forest': RandomForestRegressor(n_estimators=100, random_state=42),\n",
        "    'Support Vector Regressor': SVR(),\n",
        "    'K-Nearest Neighbors': KNeighborsRegressor(n_neighbors=5),\n",
        "    'Decision Tree': DecisionTreeRegressor(random_state=42)\n",
        "}"
      ],
      "metadata": {
        "trusted": true,
        "execution": {
          "iopub.status.busy": "2025-03-22T13:13:17.59773Z",
          "iopub.execute_input": "2025-03-22T13:13:17.598163Z",
          "iopub.status.idle": "2025-03-22T13:13:17.603135Z",
          "shell.execute_reply.started": "2025-03-22T13:13:17.598128Z",
          "shell.execute_reply": "2025-03-22T13:13:17.601916Z"
        },
        "id": "i4ugGq2CplA5"
      },
      "outputs": [],
      "execution_count": null
    },
    {
      "cell_type": "code",
      "source": [
        "# Train and evaluate models\n",
        "accuracy_results = {}\n",
        "for name, model in models.items():\n",
        "    model.fit(X_train, y_train)\n",
        "    y_pred = model.predict(X_test)\n",
        "    accuracy = r2_score(y_test, y_pred) * 100\n",
        "    accuracy_results[name] = accuracy\n",
        "    print(f'{name} Accuracy: {accuracy:.2f}%')"
      ],
      "metadata": {
        "trusted": true,
        "execution": {
          "iopub.status.busy": "2025-03-22T13:13:18.696938Z",
          "iopub.execute_input": "2025-03-22T13:13:18.697337Z"
        },
        "id": "kxARE3dVplA5"
      },
      "outputs": [],
      "execution_count": null
    },
    {
      "cell_type": "code",
      "source": [
        "# Display results\n",
        "plt.figure(figsize=(8, 5))\n",
        "sns.barplot(x=list(accuracy_results.keys()), y=list(accuracy_results.values()), palette='coolwarm')\n",
        "plt.xticks(rotation=45)\n",
        "plt.ylabel('R2 Score (%)')\n",
        "plt.title('Model Performance on Flight Price Prediction')\n",
        "plt.show()"
      ],
      "metadata": {
        "trusted": true,
        "id": "2L2GWnmVplA5"
      },
      "outputs": [],
      "execution_count": null
    },
    {
      "cell_type": "markdown",
      "source": [
        "## Thank you!!!!....pls upvote!!!!"
      ],
      "metadata": {
        "id": "nlEGIbPzplA6"
      }
    }
  ]
}